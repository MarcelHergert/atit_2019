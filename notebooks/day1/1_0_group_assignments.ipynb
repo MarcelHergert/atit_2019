{
 "cells": [
  {
   "cell_type": "code",
   "execution_count": 5,
   "metadata": {},
   "outputs": [],
   "source": [
    "import numpy as np"
   ]
  },
  {
   "cell_type": "code",
   "execution_count": 6,
   "metadata": {},
   "outputs": [
    {
     "data": {
      "text/plain": [
       "(10, 9, 9)"
      ]
     },
     "execution_count": 6,
     "metadata": {},
     "output_type": "execute_result"
    }
   ],
   "source": [
    "# lists of people\n",
    "\n",
    "sap = [\n",
    "    \"Oliver\",\n",
    "    \"Lukas E\",\n",
    "    \"Niclas\",\n",
    "    \"Felix H\",\n",
    "    \"Mona\",\n",
    "    \"Steffen\",\n",
    "    \"Maximilian\",\n",
    "    \"Dustin\",\n",
    "    \"Yannik S\",\n",
    "    \"Lucas T\",\n",
    "]\n",
    "bbf = [\n",
    "    #\"Masoud\", # gone\n",
    "    \"Julius\",\n",
    "    \"Marco\",\n",
    "    \"Arne\",\n",
    "    \"Jonas Moritz\",\n",
    "    \"Fabian\",\n",
    "    \"Philipp\",\n",
    "    \"Paul M\",\n",
    "    \"Simon\",\n",
    "    \"Tobias\"\n",
    "]\n",
    "basf = [\n",
    "    \"Felix B\",\n",
    "    \"Jessica\",\n",
    "    # \"Andreas\", # gone\n",
    "    \"Marcel H\",\n",
    "    \"Matthias\",\n",
    "    \"Marcel Dominik\",\n",
    "    \"Jonas\", \n",
    "    \"Paul S\",\n",
    "    \"Alex\",\n",
    "    \"Jannik Z\"   \n",
    "]\n",
    "\n",
    "len(sap), len(bbf), len(basf)"
   ]
  },
  {
   "cell_type": "code",
   "execution_count": 7,
   "metadata": {},
   "outputs": [
    {
     "data": {
      "text/plain": [
       "True"
      ]
     },
     "execution_count": 7,
     "metadata": {},
     "output_type": "execute_result"
    }
   ],
   "source": [
    "# check uniqueness\n",
    "\n",
    "names = sap + bbf + basf\n",
    "\n",
    "len(set(names)) == len(names)"
   ]
  },
  {
   "cell_type": "code",
   "execution_count": 8,
   "metadata": {},
   "outputs": [
    {
     "data": {
      "text/plain": [
       "(14, 14, 14)"
      ]
     },
     "execution_count": 8,
     "metadata": {},
     "output_type": "execute_result"
    }
   ],
   "source": [
    "# spill over names so that lists are equal\\\n",
    "\n",
    "basf_split = 4\n",
    "basf_head, basf_tail = basf[:basf_split], basf[basf_split:]\n",
    "\n",
    "sap_basf = sap + basf_head\n",
    "bbf_basf = bbf + basf_tail\n",
    "\n",
    "n = len(sap_basf)\n",
    "len(sap_basf), len(bbf_basf), n"
   ]
  },
  {
   "cell_type": "code",
   "execution_count": 9,
   "metadata": {},
   "outputs": [
    {
     "data": {
      "text/plain": [
       "array([ 8,  9,  2,  4, 13,  6,  5,  3, 11,  0, 10, 12,  1,  7])"
      ]
     },
     "execution_count": 9,
     "metadata": {},
     "output_type": "execute_result"
    }
   ],
   "source": [
    "# permutation how to\n",
    "i = np.arange(n)\n",
    "i_perm = np.random.permutation(i)\n",
    "i_perm"
   ]
  },
  {
   "cell_type": "code",
   "execution_count": 10,
   "metadata": {},
   "outputs": [
    {
     "data": {
      "text/plain": [
       "array(['Julius', 'Marco', 'Arne', 'Jonas Moritz', 'Fabian', 'Philipp',\n",
       "       'Paul M', 'Simon', 'Tobias', 'Marcel Dominik', 'Jonas', 'Paul S',\n",
       "       'Alex', 'Jannik Z'], dtype='<U14')"
      ]
     },
     "execution_count": 10,
     "metadata": {},
     "output_type": "execute_result"
    }
   ],
   "source": [
    "# vectorize\n",
    "v_sap = np.array(sap_basf)\n",
    "v_non_sap = np.array(bbf_basf)\n",
    "\n",
    "v_non_sap"
   ]
  },
  {
   "cell_type": "code",
   "execution_count": 11,
   "metadata": {},
   "outputs": [
    {
     "name": "stdout",
     "output_type": "stream",
     "text": [
      "shape: (14, 2)\n"
     ]
    },
    {
     "data": {
      "text/plain": [
       "array([['Julius', 'Oliver'],\n",
       "       ['Marco', 'Lukas E'],\n",
       "       ['Arne', 'Niclas'],\n",
       "       ['Jonas Moritz', 'Felix H'],\n",
       "       ['Fabian', 'Mona'],\n",
       "       ['Philipp', 'Steffen'],\n",
       "       ['Paul M', 'Maximilian'],\n",
       "       ['Simon', 'Dustin'],\n",
       "       ['Tobias', 'Yannik S'],\n",
       "       ['Marcel Dominik', 'Lucas T'],\n",
       "       ['Jonas', 'Felix B'],\n",
       "       ['Paul S', 'Jessica'],\n",
       "       ['Alex', 'Marcel H'],\n",
       "       ['Jannik Z', 'Matthias']], dtype='<U14')"
      ]
     },
     "execution_count": 11,
     "metadata": {},
     "output_type": "execute_result"
    }
   ],
   "source": [
    "# concat\n",
    "groups = np.stack([v_non_sap, v_sap], axis=1)\n",
    "print(\"shape:\", groups.shape)\n",
    "groups\n"
   ]
  },
  {
   "cell_type": "code",
   "execution_count": 12,
   "metadata": {},
   "outputs": [
    {
     "name": "stdout",
     "output_type": "stream",
     "text": [
      "first non_sap: Julius\n",
      "all non_sap: ['Julius' 'Marco' 'Arne' 'Jonas Moritz' 'Fabian' 'Philipp' 'Paul M'\n",
      " 'Simon' 'Tobias' 'Marcel Dominik' 'Jonas' 'Paul S' 'Alex' 'Jannik Z']\n",
      "last group: ['Jannik Z' 'Matthias']\n",
      "\n",
      "first, 4th and last non_sap: ['Julius' 'Philipp' 'Jannik Z']\n"
     ]
    }
   ],
   "source": [
    "# indexing\n",
    "print(\"first non_sap:\", groups[0, 0])\n",
    "print(\"all non_sap:\", groups[:, 0])\n",
    "print(\"last group:\", groups[-1, :])\n",
    "print()\n",
    "print(\"first, 4th and last non_sap:\", groups[:, 0][[0, 5, -1]])"
   ]
  },
  {
   "cell_type": "code",
   "execution_count": 13,
   "metadata": {},
   "outputs": [
    {
     "data": {
      "text/plain": [
       "array([['Julius', 'Oliver'],\n",
       "       ['Marco', 'Lukas E'],\n",
       "       ['Arne', 'Niclas'],\n",
       "       ['Jonas Moritz', 'Felix H'],\n",
       "       ['Fabian', 'Mona'],\n",
       "       ['Philipp', 'Steffen'],\n",
       "       ['Paul M', 'Maximilian'],\n",
       "       ['Simon', 'Dustin'],\n",
       "       ['Tobias', 'Yannik S'],\n",
       "       ['Marcel Dominik', 'Lucas T'],\n",
       "       ['Jonas', 'Felix B'],\n",
       "       ['Paul S', 'Jessica'],\n",
       "       ['Alex', 'Marcel H'],\n",
       "       ['Jannik Z', 'Matthias']], dtype='<U14')"
      ]
     },
     "execution_count": 13,
     "metadata": {},
     "output_type": "execute_result"
    }
   ],
   "source": [
    "groups"
   ]
  },
  {
   "cell_type": "code",
   "execution_count": 14,
   "metadata": {},
   "outputs": [
    {
     "data": {
      "text/plain": [
       "array([['Paul S', 'Niclas'],\n",
       "       ['Philipp', 'Steffen'],\n",
       "       ['Fabian', 'Maximilian'],\n",
       "       ['Alex', 'Jessica'],\n",
       "       ['Jannik Z', 'Oliver'],\n",
       "       ['Arne', 'Lucas T'],\n",
       "       ['Marco', 'Felix H'],\n",
       "       ['Tobias', 'Lukas E'],\n",
       "       ['Julius', 'Mona'],\n",
       "       ['Jonas', 'Dustin'],\n",
       "       ['Paul M', 'Matthias'],\n",
       "       ['Simon', 'Marcel H'],\n",
       "       ['Marcel Dominik', 'Felix B'],\n",
       "       ['Jonas Moritz', 'Yannik S']], dtype='<U14')"
      ]
     },
     "execution_count": 14,
     "metadata": {},
     "output_type": "execute_result"
    }
   ],
   "source": [
    "# randomize - caution, this is just a demo\n",
    "i_perm_left = np.random.permutation(i)\n",
    "groups[:, 0] = groups[:, 0][i_perm_left]\n",
    "i_perm_right = np.random.permutation(i)\n",
    "groups[:, 1] = groups[:, 1][i_perm_right]\n",
    "\n",
    "groups"
   ]
  },
  {
   "cell_type": "code",
   "execution_count": null,
   "metadata": {},
   "outputs": [],
   "source": []
  }
 ],
 "metadata": {
  "kernelspec": {
   "display_name": "Python 3",
   "language": "python",
   "name": "python3"
  },
  "language_info": {
   "codemirror_mode": {
    "name": "ipython",
    "version": 3
   },
   "file_extension": ".py",
   "mimetype": "text/x-python",
   "name": "python",
   "nbconvert_exporter": "python",
   "pygments_lexer": "ipython3",
   "version": "3.6.3"
  }
 },
 "nbformat": 4,
 "nbformat_minor": 2
}
